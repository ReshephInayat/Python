{
 "cells": [
  {
   "cell_type": "markdown",
   "metadata": {},
   "source": [
    "# **String Data Type In Python**\n",
    "* The most Important Data type in Python\n",
    "* String is a sequence of characters.\n",
    "* Can be declared using single quotes (' '), double quotes (\" \"), Triple single quotes (''' ''')  or triple double quotes(\"\"\" \"\"\"). \n",
    "* String is an ``` Immutable  Data Type ```, meaning the value cannot change after it has been assigned to a variable.\n"
   ]
  },
  {
   "cell_type": "markdown",
   "metadata": {},
   "source": [
    "# **Ways to Declare Strings**"
   ]
  },
  {
   "cell_type": "code",
   "execution_count": 2,
   "metadata": {},
   "outputs": [],
   "source": [
    "user_name: str = \"Resheph\""
   ]
  },
  {
   "cell_type": "code",
   "execution_count": null,
   "metadata": {},
   "outputs": [],
   "source": [
    "user_name: str = 'Resheph'"
   ]
  },
  {
   "cell_type": "code",
   "execution_count": null,
   "metadata": {},
   "outputs": [],
   "source": [
    "user_name: str = \"\"\"Resheph\"\"\""
   ]
  },
  {
   "cell_type": "code",
   "execution_count": null,
   "metadata": {},
   "outputs": [],
   "source": [
    "user_name: str = '''Resheph'''"
   ]
  },
  {
   "cell_type": "markdown",
   "metadata": {},
   "source": [
    "# **Type Function :**\n",
    "<h3 align=\"center \">\n",
    "\n",
    "``` type() ```\n",
    "\n",
    "</h3>\n",
    "<br>\n",
    "\n",
    "The `type()` function is a built-in Python method that returns the type of an object.\n",
    "This function returns the data type of a given value. It takes one argument, which is the variable you want to check the data type for."
   ]
  },
  {
   "cell_type": "code",
   "execution_count": 3,
   "metadata": {},
   "outputs": [
    {
     "data": {
      "text/plain": [
       "str"
      ]
     },
     "execution_count": 3,
     "metadata": {},
     "output_type": "execute_result"
    }
   ],
   "source": [
    "name: str = \"Resheph\"\n",
    "type(name)"
   ]
  },
  {
   "cell_type": "markdown",
   "metadata": {},
   "source": [
    "# **Print Function :**\n",
    "<h3 align=\"center \">\n",
    "\n",
    "``` print() ```\n",
    "\n",
    "</h3>\n",
    "<br>\n",
    "\n",
    "The `print()` function in Python is used to display the values of variables eg Output"
   ]
  },
  {
   "cell_type": "markdown",
   "metadata": {},
   "source": [
    "# **Escape Sequence In Python :**\n",
    "<h3 align=\"center \">\n",
    "\n",
    "``` \\n, \\t, \\b, \\ \\ ```\n",
    "</h3>\n",
    "<br>\n",
    "\n",
    "- The escape sequence `\\n` is used  to represent a new line in python code. It moves the cursor to the next line on the text\n",
    "- The escape sequence `\\t` is used to  insert a tab space in the code. It moves the cursor to the next column of the current line\n",
    "- The escape  sequence `\\b`  is used to insert a backspace. It moves the cursor one position backwards on the screen.\n",
    "- The ` \\ \\ ` is use to convert special meaning characters inti simple characters "
   ]
  },
  {
   "cell_type": "markdown",
   "metadata": {},
   "source": [
    "## **String Literal Errors**\n"
   ]
  },
  {
   "cell_type": "code",
   "execution_count": 39,
   "metadata": {},
   "outputs": [
    {
     "ename": "SyntaxError",
     "evalue": "unterminated string literal (detected at line 2) (848260701.py, line 2)",
     "output_type": "error",
     "traceback": [
      "\u001b[1;36m  Cell \u001b[1;32mIn[39], line 2\u001b[1;36m\u001b[0m\n\u001b[1;33m    message: str = 'Hello my name is resheph my father's name is Imran George'\u001b[0m\n\u001b[1;37m                                                                             ^\u001b[0m\n\u001b[1;31mSyntaxError\u001b[0m\u001b[1;31m:\u001b[0m unterminated string literal (detected at line 2)\n"
     ]
    }
   ],
   "source": [
    "#                                           E R R O R\n",
    "\n",
    "message: str = 'Hello my name is resheph my father's name is Imran George' \n",
    "# This error accrued because the compiler is assuming the father's apostrophe the boundary of the string"
   ]
  },
  {
   "cell_type": "code",
   "execution_count": null,
   "metadata": {},
   "outputs": [],
   "source": [
    "# If this error accrued you can use the double quotation sting to wrap the text \n",
    "message: str = \"Hello my name is resheph my father's name is\"\n"
   ]
  },
  {
   "cell_type": "code",
   "execution_count": null,
   "metadata": {},
   "outputs": [],
   "source": [
    "# Or if you want to use \" \" double quotation inside the sting you can do like this:\n",
    "message: str = 'Hello my name is \"Resheph\" '\n",
    "# You can us single quotation outside to wrap the text"
   ]
  },
  {
   "cell_type": "markdown",
   "metadata": {},
   "source": [
    "## **String Literal Errors (an other scenario)**\n"
   ]
  },
  {
   "cell_type": "code",
   "execution_count": 40,
   "metadata": {},
   "outputs": [
    {
     "ename": "SyntaxError",
     "evalue": "unterminated string literal (detected at line 4) (360894844.py, line 4)",
     "output_type": "error",
     "traceback": [
      "\u001b[1;36m  Cell \u001b[1;32mIn[40], line 4\u001b[1;36m\u001b[0m\n\u001b[1;33m    message: str = 'Hello my name is \"Resheph\" my father's name is'\u001b[0m\n\u001b[1;37m                                                                  ^\u001b[0m\n\u001b[1;31mSyntaxError\u001b[0m\u001b[1;31m:\u001b[0m unterminated string literal (detected at line 4)\n"
     ]
    }
   ],
   "source": [
    "#                                           E R R O R\n",
    "\n",
    "# if you want to use \" \" double quotation and single quotation at the same time inside the sting what will you do?\n",
    "message: str = 'Hello my name is \"Resheph\" my father's name is'\n"
   ]
  },
  {
   "cell_type": "markdown",
   "metadata": {},
   "source": [
    "- The ` \\ \\ ` is use to convert special meaning characters inti simple characters \n",
    "- use  `\\` before the character if you want to keep  it's special meaning."
   ]
  },
  {
   "cell_type": "code",
   "execution_count": 8,
   "metadata": {},
   "outputs": [],
   "source": [
    "message: str = 'Hello my name is \"Resheph\" my father\\'s name is'\n",
    "# because of \\ the compiler ignores the special character. "
   ]
  },
  {
   "cell_type": "markdown",
   "metadata": {},
   "source": [
    "## **Plus Operator in String**\n",
    "<h3 align=\"center \"> \n",
    "\n",
    "` + `\n",
    "</h3>\n",
    "\n",
    "- ` + ` Operator if used between strings  concatenates them. It is also known as string concatenation operator or simply concatenation.\n",
    "- For Concatenation both values have to be  of string data type."
   ]
  },
  {
   "cell_type": "code",
   "execution_count": 10,
   "metadata": {},
   "outputs": [
    {
     "name": "stdout",
     "output_type": "stream",
     "text": [
      "hello, Resheph\n"
     ]
    }
   ],
   "source": [
    "print(\"hello, \" + \"Resheph\")"
   ]
  },
  {
   "cell_type": "code",
   "execution_count": 18,
   "metadata": {},
   "outputs": [
    {
     "name": "stdout",
     "output_type": "stream",
     "text": [
      "Student name is: resheph and Education is: Phd\n"
     ]
    }
   ],
   "source": [
    "name: str = \"resheph\"\n",
    "education: str = \"Phd\"\n",
    "print(\"Student name is:\", name  + \" and Education is:\", education)"
   ]
  },
  {
   "cell_type": "code",
   "execution_count": 28,
   "metadata": {},
   "outputs": [
    {
     "name": "stdout",
     "output_type": "stream",
     "text": [
      "\n",
      " Student name is: resheph\n",
      " Education is: Phd \n",
      " Age is: 18\n"
     ]
    }
   ],
   "source": [
    "# If  you want to concatenate two variable but one of them contain integer value inside it inside it For Example\n",
    "name: str = \"resheph\"\n",
    "education: str = \"Phd\"\n",
    "age: int = 18\n",
    "\n",
    "# Age variable in this example, you know that we can only concatenate string data type therefore it will give an error so what should i do?\n",
    "\n",
    "print(\n",
    "    \"\\n Student name is:\", name + \"\\n Education is:\", education, \"\\n Age is:\", str(age)\n",
    ")  # you have a built in function str() it coverts value of a variable into string"
   ]
  },
  {
   "cell_type": "markdown",
   "metadata": {},
   "source": [
    "# **Built-In Function of String**\n",
    "<h3 align=\"center \" >\n",
    "\n",
    "` str() `\n",
    "</h3>\n",
    "\n",
    "- The built-in function `str()` is used to convert an object into a string."
   ]
  },
  {
   "cell_type": "code",
   "execution_count": 41,
   "metadata": {},
   "outputs": [
    {
     "ename": "TypeError",
     "evalue": "can only concatenate str (not \"int\") to str",
     "output_type": "error",
     "traceback": [
      "\u001b[1;31m---------------------------------------------------------------------------\u001b[0m",
      "\u001b[1;31mTypeError\u001b[0m                                 Traceback (most recent call last)",
      "Cell \u001b[1;32mIn[41], line 3\u001b[0m\n\u001b[0;32m      1\u001b[0m \u001b[38;5;66;03m#                                           E R R O R\u001b[39;00m\n\u001b[1;32m----> 3\u001b[0m \u001b[38;5;28mprint\u001b[39m(\u001b[38;5;124;43m\"\u001b[39;49m\u001b[38;5;124;43ma\u001b[39;49m\u001b[38;5;124;43m\"\u001b[39;49m\u001b[43m \u001b[49m\u001b[38;5;241;43m+\u001b[39;49m\u001b[43m \u001b[49m\u001b[38;5;241;43m7\u001b[39;49m)\n",
      "\u001b[1;31mTypeError\u001b[0m: can only concatenate str (not \"int\") to str"
     ]
    }
   ],
   "source": [
    "#                                           E R R O R\n",
    "\n",
    "print(\"a\" + 7)"
   ]
  },
  {
   "cell_type": "code",
   "execution_count": 30,
   "metadata": {},
   "outputs": [
    {
     "name": "stdout",
     "output_type": "stream",
     "text": [
      "a8\n"
     ]
    }
   ],
   "source": [
    "print(\"a\" + str(8))"
   ]
  },
  {
   "cell_type": "markdown",
   "metadata": {},
   "source": [
    "### **N O T E :**\n",
    "- you want to write a long line of code and you want it to be continue  in the next line without breaking? Use ` \\ `"
   ]
  },
  {
   "cell_type": "code",
   "execution_count": 37,
   "metadata": {},
   "outputs": [
    {
     "name": "stdout",
     "output_type": "stream",
     "text": [
      "34\n"
     ]
    }
   ],
   "source": [
    "print(7 + \\\n",
    "    8 + \\\n",
    "    9 + 10)\n",
    "\n",
    "# use can use \\ slash to break the line without breaking the flow of execution of code"
   ]
  },
  {
   "cell_type": "markdown",
   "metadata": {},
   "source": [
    "## *Disadvantages of /n (new lines) &  concatenation*\n",
    "   * complexity \n",
    "   * again and again defining data types\n",
    "   * using many escape sequence\n",
    "\n",
    " - Is there is any better way to code in multiline?\n",
    " - Yes There is :)\n"
   ]
  },
  {
   "cell_type": "markdown",
   "metadata": {},
   "source": [
    "# **Multiline Strings**\n",
    "For defining  multiline strings in Python, you can use triple quotes.  \n",
    "- triple single quotes: `''' '''` \n",
    "\n",
    "\n",
    "- triple double  ` \"\"\" \"\"\" `"
   ]
  },
  {
   "cell_type": "code",
   "execution_count": 43,
   "metadata": {},
   "outputs": [],
   "source": [
    "name: str = \"resheph\"\n",
    "education: str = \"Phd\"\n",
    "age: int = 18\n",
    "\n",
    "card: str = \"\"\"\n",
    "StudentName: ... \n",
    "Education: ...\n",
    "Age: ...\n",
    "\n",
    "\"\"\""
   ]
  },
  {
   "cell_type": "markdown",
   "metadata": {},
   "source": [
    "# **F-String (Formatted String) In Python**\n",
    "* The most powerful  feature of the Python programming language is f string\n",
    "* Rule of f string is use f before any string ` f\" \", f' ', f\"\"\"  \"\"\", f'''  ''' `\n",
    "* The advantage of f string is we can assign any variable of any type at anyplace inclosed in `{ } placeholder` inside the f-string."
   ]
  },
  {
   "cell_type": "code",
   "execution_count": 49,
   "metadata": {},
   "outputs": [
    {
     "name": "stdout",
     "output_type": "stream",
     "text": [
      "\n",
      "StudentName: resheph\n",
      "Education: Phd\n",
      "Age: 18    \n",
      "\n"
     ]
    }
   ],
   "source": [
    "name: str = \"resheph\"\n",
    "education: str = \"Phd\"\n",
    "age: int = 18\n",
    "\n",
    "card: str = f\"\"\"\n",
    "StudentName: {name}\n",
    "Education: {education}\n",
    "Age: {age}    \n",
    "\"\"\"\n",
    "print(card)\n",
    "                            # it also solved the problem of typecasting that we were having with the variable {age} that means f-string also handle type casting\n",
    "# This is the most latest way of using f sting in python"
   ]
  },
  {
   "cell_type": "markdown",
   "metadata": {},
   "source": [
    "## **Power & Benefit of f string**"
   ]
  },
  {
   "cell_type": "code",
   "execution_count": 50,
   "metadata": {},
   "outputs": [
    {
     "name": "stdout",
     "output_type": "stream",
     "text": [
      "The Total Amount is 15\n"
     ]
    }
   ],
   "source": [
    "message:str = f\"The Total Amount is {1 + 2 + 3 + 4 + 5}\"\n",
    "print(message)\n",
    "\n",
    "# as well as taking care of the addition operation, we can also handle and numerical expression inside the placeholder { } "
   ]
  },
  {
   "cell_type": "markdown",
   "metadata": {},
   "source": [
    "## **N O T E** :\n",
    "#### *JINJA STYLE* **In Python**\n",
    "* in jinja style we use simple  quotes boundaries  \"\"\"  \"\"\" but to place a variable we use placeholder inside a placeholder { { } }\n",
    "\n",
    "``` \"\"\" {{your_variable}}  \"\"\" ``` "
   ]
  },
  {
   "cell_type": "code",
   "execution_count": 53,
   "metadata": {},
   "outputs": [
    {
     "data": {
      "text/plain": [
       "'\\nmy name is {{name}}         \\n'"
      ]
     },
     "execution_count": 53,
     "metadata": {},
     "output_type": "execute_result"
    }
   ],
   "source": [
    "\"\"\"\n",
    "my name is {{name}}         \n",
    "\"\"\"                   # This is only for information that we have other options also instead of f string method & we use f string because it is more popular and latest feature of python"
   ]
  },
  {
   "cell_type": "markdown",
   "metadata": {},
   "source": [
    "# **Basic Ways of Concatenation also in C and Java**\n",
    "- The is only for information purpose"
   ]
  },
  {
   "cell_type": "code",
   "execution_count": 58,
   "metadata": {},
   "outputs": [
    {
     "name": "stdout",
     "output_type": "stream",
     "text": [
      "\n",
      "StudentName: resheph\n",
      "Education: Phd\n",
      "Age: 18 \n",
      "\n"
     ]
    }
   ],
   "source": [
    "name: str = \"resheph\"\n",
    "education: str = \"Phd\"\n",
    "age: int = 18\n",
    "\n",
    "card: str = \"\"\"\n",
    "StudentName: %s\n",
    "Education: %s\n",
    "Age: %d \n",
    "\"\"\" %(name, education, age)\n",
    "#                                                                                                   If you want to access any variable at a specific place Rule Says that use format specifier % \n",
    "\n",
    "print(card)"
   ]
  },
  {
   "cell_type": "markdown",
   "metadata": {},
   "source": [
    "## **Methods of String**"
   ]
  },
  {
   "cell_type": "code",
   "execution_count": null,
   "metadata": {},
   "outputs": [],
   "source": [
    "[i for i in dir(str) if \"__\" not in i] # list comprehensive to see all methods of String."
   ]
  },
  {
   "cell_type": "markdown",
   "metadata": {},
   "source": [
    "# **String Method Format .( )**\n",
    "- String Method To Access Value Of A Variable Inside The String Through Placeholder` {} ` is .` format() `\n",
    "- it is also used side by side of f string in industry standards.\n",
    "- Both ` f string` and `.format()` can be used it is recommended and it is a good practice"
   ]
  },
  {
   "cell_type": "code",
   "execution_count": 66,
   "metadata": {},
   "outputs": [
    {
     "name": "stdout",
     "output_type": "stream",
     "text": [
      "\n",
      "StudentName: resheph   \n",
      "Education: Phd\n",
      "Age: 18    \n",
      "\n"
     ]
    }
   ],
   "source": [
    "name: str = \"resheph\"\n",
    "education: str = \"Phd\"\n",
    "age: int = 18\n",
    "\n",
    "card: str = \"\"\"\n",
    "StudentName: {}   \n",
    "Education: {}\n",
    "Age: {}    \n",
    "\"\"\"\n",
    "# index             0        1      2\n",
    "print(card.format(name, education, age,)) \n",
    "\n",
    "# The value stored inside the place holder on the basis of index"
   ]
  },
  {
   "cell_type": "code",
   "execution_count": 67,
   "metadata": {},
   "outputs": [
    {
     "name": "stdout",
     "output_type": "stream",
     "text": [
      "\n",
      "StudentName: 18   \n",
      "Education: resheph\n",
      "Age: Phd    \n",
      "\n"
     ]
    }
   ],
   "source": [
    "# we have other scenario here see!\n",
    "\n",
    "name: str = \"resheph\"\n",
    "education: str = \"Phd\"\n",
    "age: int = 18\n",
    "\n",
    "card: str = \"\"\"\n",
    "StudentName: {}   \n",
    "Education: {}\n",
    "Age: {}    \n",
    "\"\"\"\n",
    "# index             0        1      2\n",
    "print(card.format(age,name,education,)\n",
    ")\n",
    "\n",
    "# The value are placed on the basis of index that means we have to give the arguments on the index basis to have no error on run time but if we have large amount of data it will be very difficult to remember each index of the value\n",
    "\n",
    "#                        YES WE HAVE THE SOLUTION FOR THAT PROBLEM"
   ]
  },
  {
   "cell_type": "code",
   "execution_count": 69,
   "metadata": {},
   "outputs": [
    {
     "name": "stdout",
     "output_type": "stream",
     "text": [
      "\n",
      "StudentName: resheph   \n",
      "Education: Phd\n",
      "Age: 18    \n",
      "\n"
     ]
    }
   ],
   "source": [
    "name: str = \"resheph\"\n",
    "education: str = \"Phd\"\n",
    "age: int = 18\n",
    "\n",
    "card: str = \"\"\"\n",
    "StudentName: {1}   \n",
    "Education: {2}\n",
    "Age: {0}    \n",
    "\"\"\"\n",
    "# index            0   1      2\n",
    "print(card.format(age,name,education,))\n",
    "\n",
    "# Here we have passed the index of the variable inside the placeholder to match the index given in the  format() function.\n",
    "# Thats how we can deal with this scenario"
   ]
  },
  {
   "cell_type": "code",
   "execution_count": 70,
   "metadata": {},
   "outputs": [
    {
     "name": "stdout",
     "output_type": "stream",
     "text": [
      "\n",
      "StudentName: resheph   \n",
      "Education: Phd\n",
      "Age: 18    \n",
      "\n"
     ]
    }
   ],
   "source": [
    "# Here's one more way to do it with (Key = Value Arguments) (a = ..., b=..., c=...)\n",
    "\n",
    "name: str = \"resheph\"\n",
    "education: str = \"Phd\"\n",
    "age: int = 18\n",
    "\n",
    "card: str = \"\"\"\n",
    "StudentName: {a}   \n",
    "Education: {b}\n",
    "Age: {c}    \n",
    "\"\"\"\n",
    "\n",
    "print(card.format(a=name, b=education, c=age))\n",
    "\n",
    "# Here we have passed the value of arguments to the keys also known as key value arguments"
   ]
  },
  {
   "cell_type": "markdown",
   "metadata": {},
   "source": [
    "## **Explore Methods of String**"
   ]
  },
  {
   "cell_type": "code",
   "execution_count": 72,
   "metadata": {},
   "outputs": [
    {
     "name": "stdout",
     "output_type": "stream",
     "text": [
      "['capitalize', 'casefold', 'center', 'count', 'encode', 'endswith', 'expandtabs', 'find', 'format', 'format_map', 'index', 'isalnum', 'isalpha', 'isascii', 'isdecimal', 'isdigit', 'isidentifier', 'islower', 'isnumeric', 'isprintable', 'isspace', 'istitle', 'isupper', 'join', 'ljust', 'lower', 'lstrip', 'maketrans', 'partition', 'removeprefix', 'removesuffix', 'replace', 'rfind', 'rindex', 'rjust', 'rpartition', 'rsplit', 'rstrip', 'split', 'splitlines', 'startswith', 'strip', 'swapcase', 'title', 'translate', 'upper', 'zfill']\n"
     ]
    }
   ],
   "source": [
    "methods_of_string: list[str] = [i for i in dir(str) if \"__\" not in i]\n",
    "print(methods_of_string) "
   ]
  },
  {
   "cell_type": "code",
   "execution_count": 74,
   "metadata": {},
   "outputs": [
    {
     "name": "stdout",
     "output_type": "stream",
     "text": [
      "Resheph inayat\n"
     ]
    }
   ],
   "source": [
    "name: str = \"rEshepH InayaT\"\n",
    "print(name.capitalize())   # Converts the first letter of string to uppercase"
   ]
  },
  {
   "cell_type": "code",
   "execution_count": 76,
   "metadata": {},
   "outputs": [
    {
     "name": "stdout",
     "output_type": "stream",
     "text": [
      "resheph inayat\n"
     ]
    }
   ],
   "source": [
    "name: str = \"rEshepH InayaT\"\n",
    "print(name.casefold())    # Convert all the letter to lowercase it is similar to lower case but the difference is that it is saying that you dont have to follow any case."
   ]
  },
  {
   "cell_type": "code",
   "execution_count": 77,
   "metadata": {},
   "outputs": [
    {
     "name": "stdout",
     "output_type": "stream",
     "text": [
      "resheph inayat\n"
     ]
    }
   ],
   "source": [
    "name: str = \"rEshepH InayaT\"\n",
    "print(name.lower()) # convert all letters to lowercase on purpose :)"
   ]
  },
  {
   "cell_type": "code",
   "execution_count": 89,
   "metadata": {},
   "outputs": [
    {
     "data": {
      "text/plain": [
       "'   Resheph Inayat  '"
      ]
     },
     "metadata": {},
     "output_type": "display_data"
    },
    {
     "data": {
      "text/plain": [
       "'Resheph Inayat'"
      ]
     },
     "metadata": {},
     "output_type": "display_data"
    }
   ],
   "source": [
    "name: str = \"   Resheph Inayat  \"\n",
    "display(name) # before \n",
    "display(name.strip()) # after  strip() removes the spaces at both ends of a string"
   ]
  },
  {
   "cell_type": "code",
   "execution_count": 88,
   "metadata": {},
   "outputs": [
    {
     "data": {
      "text/plain": [
       "'   Resheph Inayat  '"
      ]
     },
     "metadata": {},
     "output_type": "display_data"
    },
    {
     "data": {
      "text/plain": [
       "'Resheph Inayat  '"
      ]
     },
     "metadata": {},
     "output_type": "display_data"
    }
   ],
   "source": [
    "name: str = \"   Resheph Inayat  \"\n",
    "display(name)  # before\n",
    "display(name.lstrip())  # after  strip() removes the spaces at left side of a string "
   ]
  },
  {
   "cell_type": "code",
   "execution_count": 87,
   "metadata": {},
   "outputs": [
    {
     "data": {
      "text/plain": [
       "'   Resheph Inayat  '"
      ]
     },
     "metadata": {},
     "output_type": "display_data"
    },
    {
     "data": {
      "text/plain": [
       "'   Resheph Inayat'"
      ]
     },
     "metadata": {},
     "output_type": "display_data"
    }
   ],
   "source": [
    "name: str = \"   Resheph Inayat  \"\n",
    "display(name)  # before\n",
    "display(name.rstrip())  # after  strip() removes the spaces at right side of a string"
   ]
  },
  {
   "cell_type": "code",
   "execution_count": 90,
   "metadata": {},
   "outputs": [
    {
     "name": "stdout",
     "output_type": "stream",
     "text": [
      "Resheph Inayat\n"
     ]
    }
   ],
   "source": [
    "name: str = \"resheph inayat\"\n",
    "print(name.title()) # Capitalize the first letter of each word"
   ]
  },
  {
   "cell_type": "code",
   "execution_count": 91,
   "metadata": {},
   "outputs": [
    {
     "name": "stdout",
     "output_type": "stream",
     "text": [
      "RESHEPH INAYAT\n"
     ]
    }
   ],
   "source": [
    "name: str = \"resheph inayat\"\n",
    "print(name.upper())  # Capitalize all words"
   ]
  },
  {
   "cell_type": "code",
   "execution_count": 95,
   "metadata": {},
   "outputs": [
    {
     "name": "stdout",
     "output_type": "stream",
     "text": [
      "www.google.com\n"
     ]
    }
   ],
   "source": [
    "google_url: str = \"https://www.google.com\"\n",
    "ulr: str = google_url.removeprefix(\"https://\")   # prefix removes  'https' from the start of the string if it is present, otherwise returns the original string\n",
    "print(ulr)"
   ]
  },
  {
   "cell_type": "code",
   "execution_count": 96,
   "metadata": {},
   "outputs": [
    {
     "name": "stdout",
     "output_type": "stream",
     "text": [
      "https://www.google\n"
     ]
    }
   ],
   "source": [
    "google_url: str = \"https://www.google.com\"\n",
    "ulr: str = google_url.removesuffix(\".com\")   # prefix removes  '.com' from the end of the string if it is present, otherwise returns the original string\n",
    "print(ulr)"
   ]
  }
 ],
 "metadata": {
  "kernelspec": {
   "display_name": "python12",
   "language": "python",
   "name": "python3"
  },
  "language_info": {
   "codemirror_mode": {
    "name": "ipython",
    "version": 3
   },
   "file_extension": ".py",
   "mimetype": "text/x-python",
   "name": "python",
   "nbconvert_exporter": "python",
   "pygments_lexer": "ipython3",
   "version": "3.12.0"
  }
 },
 "nbformat": 4,
 "nbformat_minor": 2
}
